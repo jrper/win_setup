{
 "cells": [
  {
   "cell_type": "markdown",
   "id": "2f26e454",
   "metadata": {},
   "source": [
    "# Setup instuctions\n",
    "## Introduction\n",
    "\n",
    "These instructions cover how to install Python and other supporting software to your laptop in the department suggested way."
   ]
  },
  {
   "cell_type": "markdown",
   "id": "3664cdc4",
   "metadata": {
    "tags": [
     "mac"
    ]
   },
   "source": [
    "This version assumes you are installing software on a 2022 16GB Macbook Air laptop with an Apple Silicon M1 chip, as supplied by the department. If you are installing on a Dell Latitude machine, please see the instructions [here](windows_setup.html)"
   ]
  },
  {
   "cell_type": "markdown",
   "id": "007e8931",
   "metadata": {
    "tags": [
     "windows"
    ]
   },
   "source": [
    "This version assumes you are installing software on a 2022 16GB Dell Latitude laptop, as supplied by the department. If you are installing on an Apple Macbook machine, please see the instructions [here](mac_setup.html)"
   ]
  },
  {
   "cell_type": "markdown",
   "id": "04bb0f26",
   "metadata": {},
   "source": [
    "Please work through the sections in order. At the end of each part are instructions to test that stage of your installation."
   ]
  },
  {
   "cell_type": "markdown",
   "id": "9cd3c1de",
   "metadata": {
    "tags": [
     "mac"
    ]
   },
   "source": [
    "## Initial bootup\n",
    "\n",
    "When the laptop first boots, it will ask you to select the macine's language and the country in which you it is operating. You will then be asked to connect to a wifi network. If you are in college, then you can connect to the ImperialWPA identity using your college username which has been sent to you (it will look something like `abc22` or `ab622`) and your college password. The laptop will then download and install an automatic profile from Imperial. Once this is complete, you will be able to log in using your college ID (this time in the form `abc22@ic.ac.uk`).\n",
    "\n",
    "When your account is created, you will be given the option to set up Screen Time limits, the ability to log in via Touch ID (you can skip both these if you want) and to choose the default colour palette for your user interface.\n",
    "\n",
    "After all that, you will finally be able to log in, but will have a short wait (probably less than 15 minutes) while supporting software is installed and you are asked to restart your machine.\n",
    "\n",
    "When the reboot finishes you'll be able to log in (with your username in the `abc22` format) and access the desktop.\n",
    "\n",
    "![Desktop](images/mac/desktop.png)\n",
    "\n",
    " You are now ready to move on to the next section.\n",
    "\n",
    "### Homebrew - a unix package manager\n",
    "\n",
    "[Homebrew](https://brew.sh) is a [package manager]() for useful tools, particularly unix command line tools which are not available on MacOS via the app store. It can be installed by opening a Terminal app install(from the Utilities folder inside the Applications tab) and then typing the commands below.\n",
    "![]()"
   ]
  },
  {
   "cell_type": "code",
   "execution_count": null,
   "id": "c23507e8",
   "metadata": {
    "tags": [
     "mac"
    ]
   },
   "outputs": [],
   "source": [
    "sudo echo \"hello\"\n",
    "echo |/bin/bash -c \"$(curl -fsSL https://raw.githubusercontent.com/Homebrew/install/HEAD/install.sh)\""
   ]
  },
  {
   "cell_type": "markdown",
   "id": "5e88d622",
   "metadata": {
    "tags": [
     "mac"
    ]
   },
   "source": [
    "You will be asked to enter your password after the first command. Homebrew will install after the second.\n",
    "\n",
    "\n",
    "You may be asked to access the Terminal on other occasions during the course, so it's work spending a second or two to remember where it lives. You can also secondary click (using two fingers, or the Option key) on the icon in the dock and select `Options > Keep in Dock` from the menu bar so that it is always readily available. \n",
    "\n",
    "When Homebrew finishes installing it recommends you run two commands to activate it, and to ensure it's automatically available whenever you open a Terminal window."
   ]
  },
  {
   "cell_type": "code",
   "execution_count": null,
   "id": "a8593ad7",
   "metadata": {
    "tags": [
     "mac"
    ]
   },
   "outputs": [],
   "source": [
    "echo 'eval \"$(/opt/homebrew/bin/brew shellenv)\"' >> $HOME/.zprofile\n",
    "eval \"$(/opt/homebrew/bin/brew shellenv)\""
   ]
  },
  {
   "cell_type": "markdown",
   "id": "aa7f286a",
   "metadata": {
    "tags": [
     "mac"
    ]
   },
   "source": [
    "Now that `brew` is installed and set up, we can use it to install some useful packages:"
   ]
  },
  {
   "cell_type": "code",
   "execution_count": null,
   "id": "d97f42a2",
   "metadata": {
    "tags": [
     "mac"
    ]
   },
   "outputs": [],
   "source": [
    "brew install miniconda visual-studio-code"
   ]
  },
  {
   "cell_type": "code",
   "execution_count": null,
   "id": "129870d6",
   "metadata": {
    "tags": [
     "mac",
     "windows"
    ]
   },
   "outputs": [],
   "source": [
    "conda init zsh\n",
    "source ~/.zshrc\n",
    "yes '' | conda update conda"
   ]
  },
  {
   "cell_type": "code",
   "execution_count": null,
   "id": "0322fcd1",
   "metadata": {
    "tags": [
     "mac"
    ]
   },
   "outputs": [],
   "source": [
    "brew install miniconda visual-studio-code"
   ]
  },
  {
   "cell_type": "markdown",
   "id": "02f0165d",
   "metadata": {
    "tags": [
     "mac",
     "windows"
    ]
   },
   "source": [
    "## Docker Desktop"
   ]
  },
  {
   "cell_type": "code",
   "execution_count": null,
   "id": "15f840a3",
   "metadata": {
    "tags": [
     "mac"
    ]
   },
   "outputs": [],
   "source": [
    "brew install --cask docker\n",
    "open -a docker"
   ]
  },
  {
   "cell_type": "code",
   "execution_count": null,
   "id": "b152822e",
   "metadata": {
    "tags": [
     "mac",
     "windows"
    ]
   },
   "outputs": [],
   "source": [
    "docker run hello-world"
   ]
  },
  {
   "cell_type": "markdown",
   "id": "0960c308",
   "metadata": {
    "tags": [
     "mac",
     "windows"
    ]
   },
   "source": [
    "If your Docker installation is successful you should see an output something like\n",
    "\n",
    "> Hello from Docker!\n",
    "> This message shows that your installation appears to be working correctly.\n",
    ">\n",
    "> To generate this message, Docker took the following steps:\n",
    ">  1. The Docker client contacted the Docker daemon.\n",
    ">  2. The Docker daemon pulled the \"hello-world\" image from the Docker Hub.\n",
    ">  3. The Docker daemon created a new container from that image which runs the\n",
    ">    executable that produces the output you are currently reading.\n",
    ">  4. The Docker daemon streamed that output to the Docker client, which sent it\n",
    ">    to your terminal.\n",
    ">\n",
    "> To try something more ambitious, you can run an Ubuntu container with:\n",
    ">  $ docker run -it ubuntu bash\n",
    ">\n",
    "> Share images, automate workflows, and more with a free Docker ID:\n",
    ">  https://hub.docker.com/\n",
    ">\n",
    "> For more examples and ideas, visit:\n",
    ">  https://docs.docker.com/get-started/\n",
    "\n",
    "If you see anything else, especially an error  please ask for help."
   ]
  },
  {
   "cell_type": "markdown",
   "id": "75bf1a52",
   "metadata": {
    "tags": [
     "mac",
     "windows"
    ]
   },
   "source": [
    "## Visual Studio Code\n",
    "\n",
    "Visual Studio code is a lightweight text editor with multiple features which make it suitable for inspecting & editing code. VS code offers a range of Microsoft & third-party extensions to support additional functionality. We will install a selection to improve the experience when coding with Python"
   ]
  },
  {
   "cell_type": "code",
   "execution_count": null,
   "id": "5946a29f",
   "metadata": {
    "tags": [
     "mac",
     "windows"
    ]
   },
   "outputs": [],
   "source": [
    "code --install-extension ms-python.python\n",
    "code --install-extension vscode.cpptools \n",
    "code --install-extension ms-vscode-remote.vscode-remote-extensionpack\n",
    "code --install-extension ms-vsliveshare.vsliveshare-pack"
   ]
  }
 ],
 "metadata": {
  "jupytext": {
   "text_representation": {
    "extension": ".md",
    "format_name": "myst"
   }
  },
  "kernelspec": {
   "display_name": "Python 3",
   "language": "python",
   "name": "python3"
  }
 },
 "nbformat": 4,
 "nbformat_minor": 5
}
